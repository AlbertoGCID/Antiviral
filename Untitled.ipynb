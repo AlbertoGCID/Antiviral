{
 "cells": [
  {
   "cell_type": "code",
   "execution_count": null,
   "id": "57dca48f",
   "metadata": {},
   "outputs": [],
   "source": []
  },
  {
   "cell_type": "markdown",
   "id": "4b9525c8",
   "metadata": {},
   "source": [
    "# Código extraído del trabajo de Adriana Anido Alonso\n",
    "## https://github.com/adrania/COVID19-Drugs-repurposing/blob/main/Mordred_ML.ipynb"
   ]
  },
  {
   "cell_type": "code",
   "execution_count": null,
   "id": "100ec25b",
   "metadata": {},
   "outputs": [],
   "source": []
  }
 ],
 "metadata": {
  "kernelspec": {
   "display_name": "Python 3 (ipykernel)",
   "language": "python",
   "name": "python3"
  },
  "language_info": {
   "codemirror_mode": {
    "name": "ipython",
    "version": 3
   },
   "file_extension": ".py",
   "mimetype": "text/x-python",
   "name": "python",
   "nbconvert_exporter": "python",
   "pygments_lexer": "ipython3",
   "version": "3.10.6"
  }
 },
 "nbformat": 4,
 "nbformat_minor": 5
}
